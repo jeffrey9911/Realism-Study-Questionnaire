{
 "cells": [
  {
   "cell_type": "code",
   "execution_count": 14,
   "metadata": {},
   "outputs": [
    {
     "name": "stdout",
     "output_type": "stream",
     "text": [
      "uab-ab-victory\n",
      "uab-cat\n",
      "uab-janitor-animated\n",
      "uab-janitor-static\n",
      "uab-ab-static\n",
      "uab-dog\n"
     ]
    }
   ],
   "source": [
    "import os\n",
    "from dotenv import load_dotenv\n",
    "from pyairtable import Table\n",
    "\n",
    "load_dotenv()\n",
    "\n",
    "APITOKEN = os.getenv(\"APITOKEN\")\n",
    "APPID = os.getenv(\"APPID\")\n",
    "UABList = os.getenv(\"UABList\")\n",
    "\n",
    "testTable = Table(APITOKEN, APPID, UABList)\n",
    "\n",
    "for each in testTable.all():\n",
    "    print(each[\"fields\"][\"Name\"])\n",
    "\n"
   ]
  }
 ],
 "metadata": {
  "kernelspec": {
   "display_name": "Python 3",
   "language": "python",
   "name": "python3"
  },
  "language_info": {
   "codemirror_mode": {
    "name": "ipython",
    "version": 3
   },
   "file_extension": ".py",
   "mimetype": "text/x-python",
   "name": "python",
   "nbconvert_exporter": "python",
   "pygments_lexer": "ipython3",
   "version": "3.11.4"
  },
  "orig_nbformat": 4
 },
 "nbformat": 4,
 "nbformat_minor": 2
}
